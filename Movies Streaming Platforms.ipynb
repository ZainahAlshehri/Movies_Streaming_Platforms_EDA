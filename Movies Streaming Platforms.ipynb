{
 "cells": [
  {
   "cell_type": "markdown",
   "id": "42960e47",
   "metadata": {},
   "source": [
    "# Exploratory Data Analysis for Movies on Streaming Platforms\n",
    "\n"
   ]
  },
  {
   "cell_type": "markdown",
   "id": "4dc0fc8f",
   "metadata": {},
   "source": [
    "# Table of content:\n",
    ">1. [Introduction](#Introduction)\n",
    ">2.[Read Data](#Read_Data)\n",
    ">3.[Data Cleaning and Aggregation](#Data_Cleaning_and_Aggregation)\n",
    ">4.[Exploratory Data Analysis And visualization](#Exploratory_Data_Analysis_and_visualization)\n",
    "\n",
    "\n",
    "\n",
    "\n",
    "\n"
   ]
  },
  {
   "cell_type": "markdown",
   "id": "4d5befb1",
   "metadata": {},
   "source": [
    "# [Introduction](#Introduction)\n",
    "\n"
   ]
  },
  {
   "cell_type": "markdown",
   "id": "d676671c",
   "metadata": {},
   "source": [
    "Movies streaming services becoming increasingly popular, in this EDA project, We are searching for the most impressive movie library of any on-demand streaming service, with a wider range of new and classic content.\n",
    "The objective is to make a comparison and, suggest striges lead to improvement.  After asking the right questions we ready to get started. This bring us the next step which is data collection our data is collected from Kaggle website. After that,  Cleaning data this is a vital step because ultimately, the accuracy of your analysis will depend on the quality of your data.\n",
    "Finally, Visualizing data & interrupting result.Movies streaming services becoming increasingly popular, in this EDA project, We are searching for the most impressive movie library of any on-demand streaming service, with a wider range of new and classic content.\n",
    "The objective is to make a comparison and, suggest striges lead to improvement.  After asking the right questions we ready to get started. This bring us the next step which is data collection our data is collected from Kaggle website. After that,  Cleaning data this is a vital step because ultimately, the accuracy of your analysis will depend on the quality of your data.\n",
    "Finally, Visualizing data & interrupting result."
   ]
  },
  {
   "cell_type": "markdown",
   "id": "8be26029",
   "metadata": {},
   "source": [
    "# [Imports Libraries](#Imports_Libraries)"
   ]
  },
  {
   "cell_type": "code",
   "execution_count": null,
   "id": "f3747171",
   "metadata": {},
   "outputs": [],
   "source": [
    "print (\"Importing.....\" ,end=\"\", flush=True)\n",
    "import pandas as pd\n",
    "import numpy as np\n",
    "import matplotlib.pyplot as plt\n",
    "import seaborn as sns\n",
    "from collections import Counter\n",
    "%matplotlib inline\n",
    "!pip install wordcloud\n",
    "from wordcloud import WordCloud, STOPWORDS\n",
    "import warnings\n",
    "warnings.filterwarnings('ignore')\n",
    "print (\"[Done]\")"
   ]
  },
  {
   "cell_type": "markdown",
   "id": "8a724a45",
   "metadata": {},
   "source": [
    "# [Read Data](#Read_Data)"
   ]
  },
  {
   "cell_type": "code",
   "execution_count": null,
   "id": "c98e33f0",
   "metadata": {},
   "outputs": [],
   "source": [
    "mp= pd.read_csv('/Users/zeinah/Documents/SDAIA/Project1/MoviesOnStreamingPlatforms_updated.csv', index_col=0 )\n",
    "#To show the top 10 rows in dataset\n",
    "mp.head(10)"
   ]
  },
  {
   "cell_type": "code",
   "execution_count": null,
   "id": "9b08789c",
   "metadata": {},
   "outputs": [],
   "source": [
    "#To show some information about dataset such as: Column name, datatype, No.of Rows.\n",
    "mp.info()"
   ]
  },
  {
   "cell_type": "markdown",
   "id": "339cee0b",
   "metadata": {},
   "source": [
    "# [Data Cleaning and Aggregation](#Data_Cleaning_and_Aggregation) "
   ]
  },
  {
   "cell_type": "markdown",
   "id": "d260988a",
   "metadata": {},
   "source": [
    "##### The Age column It’s includes character, float, and string. First, we removed the character. After that, we replaced the string and null with 0. Finally, converted from object to float to replace all 0 and null with the mode, it’s was the best solution in our case so won’t lose accuracy of data. "
   ]
  },
  {
   "cell_type": "code",
   "execution_count": null,
   "id": "2c4817d5",
   "metadata": {},
   "outputs": [],
   "source": [
    "# drop columns that not helpful for my analysis\n",
    "mp.drop('Language',\n",
    "  axis='columns', inplace=True)"
   ]
  },
  {
   "cell_type": "code",
   "execution_count": null,
   "id": "fb5e7adf",
   "metadata": {},
   "outputs": [],
   "source": [
    "mp.duplicated()"
   ]
  },
  {
   "cell_type": "code",
   "execution_count": null,
   "id": "35d0eed2",
   "metadata": {},
   "outputs": [],
   "source": [
    "#drop null values \n",
    "# removed the character\n",
    "mp['Age']=mp['Age'].str.replace('+' , '' )"
   ]
  },
  {
   "cell_type": "code",
   "execution_count": null,
   "id": "7b0ab572",
   "metadata": {},
   "outputs": [],
   "source": [
    "#replaced the string and null with 0\n",
    "mp['Age'] = mp['Age'].replace(np.nan, 0)"
   ]
  },
  {
   "cell_type": "code",
   "execution_count": null,
   "id": "67bac2e6",
   "metadata": {},
   "outputs": [],
   "source": [
    " mp.replace('all', None , inplace = True)"
   ]
  },
  {
   "cell_type": "code",
   "execution_count": null,
   "id": "ce8f63f0",
   "metadata": {},
   "outputs": [],
   "source": [
    "mp['Age']=mp['Age'].replace(0, np.nan)"
   ]
  },
  {
   "cell_type": "code",
   "execution_count": null,
   "id": "b14e4cc2",
   "metadata": {},
   "outputs": [],
   "source": [
    "mp.Age.value_counts()"
   ]
  },
  {
   "cell_type": "code",
   "execution_count": null,
   "id": "dc01927b",
   "metadata": {},
   "outputs": [],
   "source": [
    "#converted  Age column from object to float to replace all 0 and null with the mode\n",
    "mp['Age']= mp.Age.astype('float')"
   ]
  },
  {
   "cell_type": "code",
   "execution_count": null,
   "id": "ef015ff0",
   "metadata": {},
   "outputs": [],
   "source": [
    "mp[\"Age\"].mode()"
   ]
  },
  {
   "cell_type": "code",
   "execution_count": null,
   "id": "9b6d69a9",
   "metadata": {},
   "outputs": [],
   "source": [
    "#replace all 0 and null with the mode\n",
    "cateogry_columns=mp.select_dtypes(include=['float']).columns.tolist()\n",
    "for Age in mp:\n",
    "    if mp[Age].isnull().any():\n",
    "        if(Age in cateogry_columns):\n",
    "            mp[Age]=mp[Age].fillna(mp[Age].mode()[0])"
   ]
  },
  {
   "cell_type": "code",
   "execution_count": null,
   "id": "d259645d",
   "metadata": {},
   "outputs": [],
   "source": [
    "mp['Age']= mp.Age.astype('int')"
   ]
  },
  {
   "cell_type": "code",
   "execution_count": null,
   "id": "1bc32be5",
   "metadata": {},
   "outputs": [],
   "source": [
    "mp"
   ]
  },
  {
   "cell_type": "code",
   "execution_count": null,
   "id": "92aac33e",
   "metadata": {},
   "outputs": [],
   "source": [
    "mp.Age.isna()"
   ]
  },
  {
   "cell_type": "code",
   "execution_count": null,
   "id": "a771ad9d",
   "metadata": {},
   "outputs": [],
   "source": [
    "mp.info()"
   ]
  },
  {
   "cell_type": "code",
   "execution_count": null,
   "id": "f0f1708a",
   "metadata": {},
   "outputs": [],
   "source": [
    "mp.Age.unique()"
   ]
  },
  {
   "cell_type": "code",
   "execution_count": null,
   "id": "a889463e",
   "metadata": {},
   "outputs": [],
   "source": [
    "#Check for missing data\n",
    "mp.isna().sum()"
   ]
  },
  {
   "cell_type": "code",
   "execution_count": null,
   "id": "d5ae1e49",
   "metadata": {},
   "outputs": [],
   "source": [
    "mp.describe()"
   ]
  },
  {
   "cell_type": "code",
   "execution_count": null,
   "id": "a9e701e1",
   "metadata": {},
   "outputs": [],
   "source": [
    "mp.Age"
   ]
  },
  {
   "cell_type": "code",
   "execution_count": null,
   "id": "db322b9a",
   "metadata": {},
   "outputs": [],
   "source": [
    "\n",
    "mp.dropna(how='any',inplace=True)"
   ]
  },
  {
   "cell_type": "code",
   "execution_count": null,
   "id": "5ac00bec",
   "metadata": {},
   "outputs": [],
   "source": [
    "mp.isna ().sum()"
   ]
  },
  {
   "cell_type": "markdown",
   "id": "27c93c56",
   "metadata": {},
   "source": [
    "# [Exploratory Data Analysis And visualization](#Exploratory_Data_Analysis_And_visualization)\n",
    "\n"
   ]
  },
  {
   "cell_type": "code",
   "execution_count": null,
   "id": "8c38e719",
   "metadata": {},
   "outputs": [],
   "source": [
    "mp.Genres.unique()"
   ]
  },
  {
   "cell_type": "markdown",
   "id": "5b50be6d",
   "metadata": {},
   "source": [
    "##### From Genres column we have to extract categories. \n",
    "Firstly we will split each listing, \n",
    "Then we count each category, \n",
    "Lastly We will Sort and save it as dictionary."
   ]
  },
  {
   "cell_type": "code",
   "execution_count": null,
   "id": "af3328d9",
   "metadata": {},
   "outputs": [],
   "source": [
    "mp['Genres']=mp['Genres'].str.replace('-' , ' ' )"
   ]
  },
  {
   "cell_type": "code",
   "execution_count": null,
   "id": "6f44ffaf",
   "metadata": {},
   "outputs": [],
   "source": [
    "#split each listing\n",
    "Genres= []\n",
    "for i in range(len(mp)):\n",
    "    Genres.extend(mp.Genres.iloc[i].split(','))\n",
    "print (Genres)"
   ]
  },
  {
   "cell_type": "code",
   "execution_count": null,
   "id": "21dbb955",
   "metadata": {},
   "outputs": [],
   "source": [
    "#count each category.\n",
    "dic_genres= {}\n",
    "for i in Genres:\n",
    "    dic_genres[i] = Genres.count(i)\n",
    "print(dic_genres)"
   ]
  },
  {
   "cell_type": "code",
   "execution_count": null,
   "id": "6e732ab5",
   "metadata": {},
   "outputs": [],
   "source": [
    "#Sort and save it as dictionary.\n",
    "dic_genres = sorted(dic_genres.items(), key=lambda item: item[1], reverse=True)\n",
    "print(dic_genres)"
   ]
  },
  {
   "cell_type": "code",
   "execution_count": null,
   "id": "c8cdb646",
   "metadata": {},
   "outputs": [],
   "source": [
    "gen = pd.DataFrame(dic_genres, columns=[\"genre\", \"count\"])"
   ]
  },
  {
   "cell_type": "code",
   "execution_count": null,
   "id": "e19814c7",
   "metadata": {},
   "outputs": [],
   "source": [
    "gen"
   ]
  },
  {
   "cell_type": "code",
   "execution_count": null,
   "id": "9dfb2b5f",
   "metadata": {},
   "outputs": [],
   "source": [
    "sns.set(rc={'figure.figsize':(15,10)})\n",
    "sns.barplot(data=gen.head(5), x=\"genre\", y=\"count\", palette=['#db3f72', '#ffd966', '#485aa3']);\n",
    "plt.title('Top 5 Catogry of Genres of Movies',fontsize=30, fontweight='bold', color='#485aa3') \n",
    "plt.xlabel('Types of Movies',fontsize=20)\n",
    "plt.ylabel('Count',fontsize=20);\n",
    "plt.savefig('Types_of_Movies.png',transparent=True) # To save the plot,\n"
   ]
  },
  {
   "cell_type": "code",
   "execution_count": null,
   "id": "1c4a75f2",
   "metadata": {},
   "outputs": [],
   "source": [
    "plt.figure(figsize=(15,7))\n",
    "chains=mp['Country'].value_counts()[:5] #Top 5 \n",
    "sns.barplot(x=chains,y=chains.index, palette=['#db3f72', '#ffd966', '#485aa3','#edad7b'])\n",
    "plt.title(\"Top Countries Produce \",size=30, fontweight='bold', color='#485aa3')\n",
    "plt.xlabel(\"Counts\",size=15) \n",
    "plt.ylabel(\"Countries\",size=15) \n",
    "plt.savefig('Top_Countries_Produce.png',transparent=True)"
   ]
  },
  {
   "cell_type": "code",
   "execution_count": null,
   "id": "d0a196c6",
   "metadata": {},
   "outputs": [],
   "source": [
    "mp[\"Age\"].value_counts()"
   ]
  },
  {
   "cell_type": "code",
   "execution_count": null,
   "id": "82f1801d",
   "metadata": {},
   "outputs": [],
   "source": [
    "#we defied the Age into three categories Adult, Teenager and kids.\n",
    "def Catogery (mp):\n",
    "    if mp >= 18: \n",
    "        return'Adult'\n",
    "    elif mp >= 13 : \n",
    "        return \" Teenager\"\n",
    "    elif mp >= 5:\n",
    "        return \"Child\"\n",
    "    else:\n",
    "        return \"Baby\"\n",
    "#combine All the Age in One Column \n",
    "mp['Age_Catagery'] = mp.Age.apply(Catogery)"
   ]
  },
  {
   "cell_type": "code",
   "execution_count": null,
   "id": "308299f3",
   "metadata": {},
   "outputs": [],
   "source": [
    "mp"
   ]
  },
  {
   "cell_type": "code",
   "execution_count": null,
   "id": "132a93e3",
   "metadata": {},
   "outputs": [],
   "source": [
    "sns.countplot(data=mp,x= \"Age_Catagery\" , palette=['#db3f72', '#ffd966', '#485aa3','#edad7b'])\n",
    "plt.title('Age Categorys on streaming platforms', fontsize=20, fontweight='bold',color='#485aa3') \n",
    "plt.xlabel('Age Catagery',size=20)\n",
    "plt.ylabel('Frequency',size=20)\n",
    "plt.savefig('Age_Catagry.png',transparent=True );\n"
   ]
  },
  {
   "cell_type": "code",
   "execution_count": null,
   "id": "f7c88a6c",
   "metadata": {},
   "outputs": [],
   "source": [
    "mp = mp.rename(columns={\"Prime Video\":\"PrimeVideo\", \"Disney+\":\"disney\"})"
   ]
  },
  {
   "cell_type": "code",
   "execution_count": null,
   "id": "9c09f7bc",
   "metadata": {},
   "outputs": [],
   "source": [
    "# Combine All the platform streaming in One Column  \n",
    "mp[\"platform\"] = np.where(mp.Netflix ==1, \"netflix\",\n",
    "         np.where(mp.Hulu ==1,\"hulu\",\n",
    "                  np.where(mp.PrimeVideo == 1,\"primeVideo\",\n",
    "                           np.where(mp.disney ==1,\"disney\"\n",
    "                                    ,\"other\"))))"
   ]
  },
  {
   "cell_type": "code",
   "execution_count": null,
   "id": "6fd19726",
   "metadata": {},
   "outputs": [],
   "source": [
    "sns.countplot(data=mp,x=\"platform\" , palette=['#db3f72', '#ffd966', '#485aa3','#edad7b'])\n",
    "plt.title('Highest Platforms Content', fontsize=25, fontweight='bold',color='#485aa3')\n",
    "\n",
    "plt.xlabel('Platforms',size=20)\n",
    "plt.ylabel('Frequency',size=20)\n",
    "plt.savefig('Highest Platforms Content.png',transparent=True)\n"
   ]
  },
  {
   "cell_type": "code",
   "execution_count": null,
   "id": "0c243c1d",
   "metadata": {},
   "outputs": [],
   "source": [
    "sns.countplot(data=mp, x=\"Age_Catagery\", hue=\"platform\" , palette=['#db3f72', '#ffd966', '#485aa3','#edad7b']);\n",
    "plt.title('Platforms Content for Each Age Category', fontsize=25, fontweight='bold', color='#485aa3')\n",
    "plt.xlabel('Age Catagery',size=20)\n",
    "plt.ylabel('Frequency',size=20)\n",
    "plt.savefig('Platforms Content for Each Age  .png',transparent=True)"
   ]
  },
  {
   "cell_type": "code",
   "execution_count": null,
   "id": "7db98b9f",
   "metadata": {},
   "outputs": [],
   "source": [
    "sns.distplot(mp['Year']);"
   ]
  },
  {
   "cell_type": "code",
   "execution_count": null,
   "id": "e6f15b87",
   "metadata": {},
   "outputs": [],
   "source": [
    "def run_time(mp):\n",
    "    if  mp <= 60 :\n",
    "        return 'Short'\n",
    "    elif  mp <= 120: \n",
    "        return'normal'\n",
    "    else :\n",
    "        return'long'"
   ]
  },
  {
   "cell_type": "code",
   "execution_count": null,
   "id": "f2087822",
   "metadata": {},
   "outputs": [],
   "source": [
    "mp['Runtime']= mp.Runtime.astype('int')"
   ]
  },
  {
   "cell_type": "code",
   "execution_count": null,
   "id": "115a60d2",
   "metadata": {},
   "outputs": [],
   "source": [
    "mp['Runtime']"
   ]
  },
  {
   "cell_type": "code",
   "execution_count": null,
   "id": "26be45d0",
   "metadata": {},
   "outputs": [],
   "source": [
    "mp[\"Runtime_bin\"] = mp.Runtime.apply(run_time)"
   ]
  },
  {
   "cell_type": "code",
   "execution_count": null,
   "id": "5b44fa65",
   "metadata": {},
   "outputs": [],
   "source": [
    "sns.countplot(data=mp,x=\"Runtime_bin\" , palette=['#db3f72', '#ffd966', '#485aa3','#edad7b']) \n",
    "plt.title('Duration Of Content', fontsize=25, fontweight='bold',color='#485aa3');\n",
    "plt.xlabel('Run Time',size=20)\n",
    "plt.ylabel('Frequency',size=20)\n",
    "plt.savefig('Movies Run Time.png',transparent=True);\n",
    "\n",
    "    \n",
    "    "
   ]
  },
  {
   "cell_type": "code",
   "execution_count": null,
   "id": "4dde896d",
   "metadata": {},
   "outputs": [],
   "source": [
    "mp.info()"
   ]
  },
  {
   "cell_type": "code",
   "execution_count": null,
   "id": "871a935b",
   "metadata": {},
   "outputs": [],
   "source": [
    "mp['IMDb']=mp['IMDb'].str.replace('/10' , '' )"
   ]
  },
  {
   "cell_type": "code",
   "execution_count": null,
   "id": "b225b06e",
   "metadata": {},
   "outputs": [],
   "source": [
    "mp['IMDb'].unique()"
   ]
  },
  {
   "cell_type": "code",
   "execution_count": null,
   "id": "b733e902",
   "metadata": {},
   "outputs": [],
   "source": [
    "mp['IMDb']= mp.IMDb.astype('float')"
   ]
  },
  {
   "cell_type": "code",
   "execution_count": null,
   "id": "2d0b5ef1",
   "metadata": {},
   "outputs": [],
   "source": [
    "mp['IMDb']= mp.IMDb.astype('int')"
   ]
  },
  {
   "cell_type": "code",
   "execution_count": null,
   "id": "9ceee592",
   "metadata": {},
   "outputs": [],
   "source": [
    "def rating(mp):\n",
    "    if  mp >= 8:\n",
    "        return 'High Rated'\n",
    "    elif  mp <= 7 and mp > 5 : #if the rating less than or equal 7 and greater than 5 replaced with med rated\n",
    "        return'Med Rated'\n",
    "    else:\n",
    "        return'Low Rated'\n",
    "\n",
    "mp['Movie_rating'] = mp.IMDb.apply(rating)"
   ]
  },
  {
   "cell_type": "code",
   "execution_count": null,
   "id": "0610f451",
   "metadata": {},
   "outputs": [],
   "source": [
    "mp['Movie_rating']= mp.Movie_rating.astype('object')"
   ]
  },
  {
   "cell_type": "code",
   "execution_count": null,
   "id": "6d033543",
   "metadata": {},
   "outputs": [],
   "source": [
    "sns.distplot(mp['IMDb']) ;\n",
    "plt.title('IMDB Rating for Movies', fontsize=25, fontweight='bold');\n",
    "plt.xlabel('Movie Rating', size= 20 )\n",
    "plt.ylabel('Density', size = 20)\n",
    "plt.savefig('IMDB Rating.png', transparent=True);"
   ]
  },
  {
   "cell_type": "code",
   "execution_count": null,
   "id": "241807c2",
   "metadata": {},
   "outputs": [],
   "source": [
    "sns.countplot(data=mp,x='Movie_rating', palette=['#db3f72', '#ffd966', '#485aa3','#edad7b'])    \n",
    "plt.title('Movies Rating', fontsize=25, fontweight='bold');\n",
    "plt.xlabel('Movies Rating' , size=20)\n",
    "plt.ylabel('Relative Frequency', size=20)\n",
    "plt.savefig('Movie_rating.png' , transparent=True)"
   ]
  },
  {
   "cell_type": "code",
   "execution_count": null,
   "id": "39c7c4bf",
   "metadata": {},
   "outputs": [],
   "source": [
    "#From word cloud we can see that Most of the titles of netflix are about love,christams,world.\n",
    "         \n",
    "comment_words = ''\n",
    "\n",
    "stopwords = set(STOPWORDS)\n",
    "\n",
    "\n",
    "for val in mp.Title:\n",
    "  \n",
    "  val = str(val)\n",
    "  \n",
    "  tokens = val.split()\n",
    "  \n",
    "  for i in range(len(tokens)):\n",
    "    \n",
    "    \n",
    "    tokens[i] = tokens[i].lower()\n",
    "    \n",
    "    comment_words += \" \".join(tokens) + \" \"\n",
    "   \n",
    "wordcloud = WordCloud(width = 800, height = 800,\n",
    "                      background_color = 'white',\n",
    "                    stopwords = stopwords,\n",
    "                      min_font_size = 10).generate(comment_words)#سو عملية جينيريت ولدها لي \n",
    "                      \n",
    "plt.figure(figsize = (8, 8), facecolor = None)\n",
    "plt.imshow(wordcloud)\n",
    "plt.axis('off')\n",
    "\n",
    "plt.title('Movies Title Analysis', fontsize=25, fontweight='bold' , color='#485aa3')\n",
    "plt.tight_layout(pad = 0)\n",
    "plt.show()"
   ]
  },
  {
   "cell_type": "code",
   "execution_count": null,
   "id": "8a662ad3",
   "metadata": {},
   "outputs": [],
   "source": []
  }
 ],
 "metadata": {
  "kernelspec": {
   "display_name": "Python 3",
   "language": "python",
   "name": "python3"
  },
  "language_info": {
   "codemirror_mode": {
    "name": "ipython",
    "version": 3
   },
   "file_extension": ".py",
   "mimetype": "text/x-python",
   "name": "python",
   "nbconvert_exporter": "python",
   "pygments_lexer": "ipython3",
   "version": "3.8.8"
  }
 },
 "nbformat": 4,
 "nbformat_minor": 5
}
